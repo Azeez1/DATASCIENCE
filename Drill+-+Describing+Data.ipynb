{
 "cells": [
  {
   "cell_type": "code",
   "execution_count": 23,
   "metadata": {
    "collapsed": true
   },
   "outputs": [],
   "source": [
    "import numpy as np \n",
    "import pandas as pd \n",
    "import matplotlib.pyplot as plt\n",
    "%matplotlib inline\n",
    "\n",
    "\n",
    "\n"
   ]
  },
  {
   "cell_type": "code",
   "execution_count": 24,
   "metadata": {},
   "outputs": [
    {
     "name": "stdout",
     "output_type": "stream",
     "text": [
      "9.85714285714 10.0 8\n",
      "6.40816326531 2.53143502095 1.03345401972\n"
     ]
    }
   ],
   "source": [
    "#QUESTION 1 \n",
    "brady_bunch = np.array([6,8,8,10,11,12,14])\n",
    "mean = np.mean(brady_bunch)\n",
    "median = np.median(brady_bunch)\n",
    "(values, counts) = np.unique(brady_bunch, return_counts=True)\n",
    "ind = np.argmax(counts)\n",
    "mode = values[ind]\n",
    "variance = np.var(brady_bunch)\n",
    "std = np.std(brady_bunch)\n",
    "se = np.std(brady_bunch ,ddof=1) / np.sqrt(len(brady_bunch))\n",
    "\n",
    "print(mean,median,mode)\n",
    "print(variance,std,se)\n"
   ]
  },
  {
   "cell_type": "markdown",
   "metadata": {},
   "source": [
    "#Question 2 \n",
    "\n",
    "I willl choose the mean for the central tendency because it is resistant to outliers.I will also choose the standard error because it shows how close your sample mean is to the population mean."
   ]
  },
  {
   "cell_type": "code",
   "execution_count": 25,
   "metadata": {},
   "outputs": [
    {
     "name": "stdout",
     "output_type": "stream",
     "text": [
      "10.0 10.0 8\n",
      "5.42857142857 2.32992949004 0.951189731211\n"
     ]
    }
   ],
   "source": [
    "#Question 3 \n",
    "brady_bunch = np.array([7,8,8,10,11,12,14])\n",
    "mean = np.mean(brady_bunch)\n",
    "median = np.median(brady_bunch)\n",
    "(values, counts) = np.unique(brady_bunch, return_counts=True)\n",
    "ind = np.argmax(counts)\n",
    "mode = values[ind]\n",
    "variance = np.var(brady_bunch)\n",
    "std = np.std(brady_bunch)\n",
    "se = np.std(brady_bunch ,ddof=1) / np.sqrt(len(brady_bunch))\n",
    "\n",
    "print(mean,median,mode)\n",
    "print(variance,std,se)\n"
   ]
  },
  {
   "cell_type": "code",
   "execution_count": 26,
   "metadata": {},
   "outputs": [
    {
     "name": "stdout",
     "output_type": "stream",
     "text": [
      "9.0 10.0 1\n",
      "15.4285714286 3.92792202425 1.60356745147\n"
     ]
    }
   ],
   "source": [
    "#Question 4 \n",
    "brady_bunch = np.array([7,1,8,10,11,12,14])\n",
    "mean = np.mean(brady_bunch)\n",
    "median = np.median(brady_bunch)\n",
    "(values, counts) = np.unique(brady_bunch, return_counts=True)\n",
    "ind = np.argmax(counts)\n",
    "mode = values[ind]\n",
    "variance = np.var(brady_bunch)\n",
    "std = np.std(brady_bunch)\n",
    "se = np.std(brady_bunch ,ddof=1) / np.sqrt(len(brady_bunch))\n",
    "\n",
    "print(mean,median,mode)\n",
    "print(variance,std,se)\n"
   ]
  },
  {
   "cell_type": "code",
   "execution_count": 27,
   "metadata": {},
   "outputs": [
    {
     "name": "stdout",
     "output_type": "stream",
     "text": [
      "0.1625 0.185 1\n",
      "0.00466875 0.0683282518436 0.0298208939216\n"
     ]
    }
   ],
   "source": [
    "#Question 5\n",
    "adult_fans = np.array([.20,.23,.17,.05])\n",
    "mean = np.mean(adult_fans)\n",
    "median = np.median(adult_fans)\n",
    "variance = np.var(adult_fans)\n",
    "std = np.std(adult_fans)\n",
    "se = np.std(adult_fans ,ddof=1) / np.sqrt(len(brady_bunch))\n",
    "\n",
    "print(mean,median,mode)\n",
    "print(variance,std,se)\n"
   ]
  },
  {
   "cell_type": "code",
   "execution_count": null,
   "metadata": {
    "collapsed": true
   },
   "outputs": [],
   "source": []
  }
 ],
 "metadata": {
  "kernelspec": {
   "display_name": "Python 3",
   "language": "python",
   "name": "python3"
  },
  "language_info": {
   "codemirror_mode": {
    "name": "ipython",
    "version": 3
   },
   "file_extension": ".py",
   "mimetype": "text/x-python",
   "name": "python",
   "nbconvert_exporter": "python",
   "pygments_lexer": "ipython3",
   "version": "3.6.1"
  }
 },
 "nbformat": 4,
 "nbformat_minor": 2
}
