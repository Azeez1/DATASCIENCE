{
 "cells": [
  {
   "cell_type": "code",
   "execution_count": 1,
   "metadata": {},
   "outputs": [
    {
     "name": "stdout",
     "output_type": "stream",
     "text": [
      "10.44%\n",
      "9.96%\n"
     ]
    }
   ],
   "source": [
    "import numpy as np\n",
    "\n",
    "\n",
    "#1 \n",
    "positive = (0.005 * 0.98) + ((1 - 0.005) * .1)\n",
    "print(\"{}%\".format(np.round(positive * 100, decimals=2)))\n",
    "# => 10.44%\n",
    "\n",
    "# 2: 98% \n",
    "\n",
    "# 3 90% \n",
    "\n",
    "# 4 \n",
    "misclassify = (0.02 * 0.005) + ((1 - 0.005) * .1)\n",
    "print(\"{}%\".format(misclassify * 100))\n"
   ]
  },
  {
   "cell_type": "code",
   "execution_count": null,
   "metadata": {
    "collapsed": true
   },
   "outputs": [],
   "source": []
  }
 ],
 "metadata": {
  "kernelspec": {
   "display_name": "Python 3",
   "language": "python",
   "name": "python3"
  },
  "language_info": {
   "codemirror_mode": {
    "name": "ipython",
    "version": 3
   },
   "file_extension": ".py",
   "mimetype": "text/x-python",
   "name": "python",
   "nbconvert_exporter": "python",
   "pygments_lexer": "ipython3",
   "version": "3.6.1"
  }
 },
 "nbformat": 4,
 "nbformat_minor": 2
}
